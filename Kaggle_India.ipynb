{
 "cells": [
  {
   "cell_type": "code",
   "execution_count": 22,
   "metadata": {},
   "outputs": [],
   "source": [
    "import pandas as pd\n",
    "import numpy as np\n",
    "import matplotlib.pyplot as plt\n",
    "import seaborn as sns\n",
    "%matplotlib inline"
   ]
  },
  {
   "cell_type": "markdown",
   "metadata": {},
   "source": [
    "# Kaggle ML & DS Survey 2019 Analysis"
   ]
  },
  {
   "cell_type": "code",
   "execution_count": 23,
   "metadata": {},
   "outputs": [
    {
     "data": {
      "text/html": [
       "<div>\n",
       "<style scoped>\n",
       "    .dataframe tbody tr th:only-of-type {\n",
       "        vertical-align: middle;\n",
       "    }\n",
       "\n",
       "    .dataframe tbody tr th {\n",
       "        vertical-align: top;\n",
       "    }\n",
       "\n",
       "    .dataframe thead th {\n",
       "        text-align: right;\n",
       "    }\n",
       "</style>\n",
       "<table border=\"1\" class=\"dataframe\">\n",
       "  <thead>\n",
       "    <tr style=\"text-align: right;\">\n",
       "      <th></th>\n",
       "      <th>Time from Start to Finish (seconds)</th>\n",
       "      <th>Q1</th>\n",
       "      <th>Q2</th>\n",
       "      <th>Q2_OTHER_TEXT</th>\n",
       "      <th>Q3</th>\n",
       "      <th>Q4</th>\n",
       "      <th>Q5</th>\n",
       "      <th>Q5_OTHER_TEXT</th>\n",
       "      <th>Q6</th>\n",
       "      <th>Q7</th>\n",
       "      <th>...</th>\n",
       "      <th>Q34_Part_4</th>\n",
       "      <th>Q34_Part_5</th>\n",
       "      <th>Q34_Part_6</th>\n",
       "      <th>Q34_Part_7</th>\n",
       "      <th>Q34_Part_8</th>\n",
       "      <th>Q34_Part_9</th>\n",
       "      <th>Q34_Part_10</th>\n",
       "      <th>Q34_Part_11</th>\n",
       "      <th>Q34_Part_12</th>\n",
       "      <th>Q34_OTHER_TEXT</th>\n",
       "    </tr>\n",
       "  </thead>\n",
       "  <tbody>\n",
       "    <tr>\n",
       "      <td>0</td>\n",
       "      <td>Duration (in seconds)</td>\n",
       "      <td>What is your age (# years)?</td>\n",
       "      <td>What is your gender? - Selected Choice</td>\n",
       "      <td>What is your gender? - Prefer to self-describe...</td>\n",
       "      <td>In which country do you currently reside?</td>\n",
       "      <td>What is the highest level of formal education ...</td>\n",
       "      <td>Select the title most similar to your current ...</td>\n",
       "      <td>Select the title most similar to your current ...</td>\n",
       "      <td>What is the size of the company where you are ...</td>\n",
       "      <td>Approximately how many individuals are respons...</td>\n",
       "      <td>...</td>\n",
       "      <td>Which of the following relational database pro...</td>\n",
       "      <td>Which of the following relational database pro...</td>\n",
       "      <td>Which of the following relational database pro...</td>\n",
       "      <td>Which of the following relational database pro...</td>\n",
       "      <td>Which of the following relational database pro...</td>\n",
       "      <td>Which of the following relational database pro...</td>\n",
       "      <td>Which of the following relational database pro...</td>\n",
       "      <td>Which of the following relational database pro...</td>\n",
       "      <td>Which of the following relational database pro...</td>\n",
       "      <td>Which of the following relational database pro...</td>\n",
       "    </tr>\n",
       "    <tr>\n",
       "      <td>1</td>\n",
       "      <td>510</td>\n",
       "      <td>22-24</td>\n",
       "      <td>Male</td>\n",
       "      <td>-1</td>\n",
       "      <td>France</td>\n",
       "      <td>Master’s degree</td>\n",
       "      <td>Software Engineer</td>\n",
       "      <td>-1</td>\n",
       "      <td>1000-9,999 employees</td>\n",
       "      <td>0</td>\n",
       "      <td>...</td>\n",
       "      <td>NaN</td>\n",
       "      <td>NaN</td>\n",
       "      <td>NaN</td>\n",
       "      <td>NaN</td>\n",
       "      <td>NaN</td>\n",
       "      <td>NaN</td>\n",
       "      <td>NaN</td>\n",
       "      <td>NaN</td>\n",
       "      <td>NaN</td>\n",
       "      <td>-1</td>\n",
       "    </tr>\n",
       "    <tr>\n",
       "      <td>2</td>\n",
       "      <td>423</td>\n",
       "      <td>40-44</td>\n",
       "      <td>Male</td>\n",
       "      <td>-1</td>\n",
       "      <td>India</td>\n",
       "      <td>Professional degree</td>\n",
       "      <td>Software Engineer</td>\n",
       "      <td>-1</td>\n",
       "      <td>&gt; 10,000 employees</td>\n",
       "      <td>20+</td>\n",
       "      <td>...</td>\n",
       "      <td>NaN</td>\n",
       "      <td>NaN</td>\n",
       "      <td>NaN</td>\n",
       "      <td>NaN</td>\n",
       "      <td>NaN</td>\n",
       "      <td>NaN</td>\n",
       "      <td>NaN</td>\n",
       "      <td>NaN</td>\n",
       "      <td>NaN</td>\n",
       "      <td>-1</td>\n",
       "    </tr>\n",
       "    <tr>\n",
       "      <td>3</td>\n",
       "      <td>83</td>\n",
       "      <td>55-59</td>\n",
       "      <td>Female</td>\n",
       "      <td>-1</td>\n",
       "      <td>Germany</td>\n",
       "      <td>Professional degree</td>\n",
       "      <td>NaN</td>\n",
       "      <td>-1</td>\n",
       "      <td>NaN</td>\n",
       "      <td>NaN</td>\n",
       "      <td>...</td>\n",
       "      <td>NaN</td>\n",
       "      <td>NaN</td>\n",
       "      <td>NaN</td>\n",
       "      <td>NaN</td>\n",
       "      <td>NaN</td>\n",
       "      <td>NaN</td>\n",
       "      <td>NaN</td>\n",
       "      <td>NaN</td>\n",
       "      <td>NaN</td>\n",
       "      <td>-1</td>\n",
       "    </tr>\n",
       "    <tr>\n",
       "      <td>4</td>\n",
       "      <td>391</td>\n",
       "      <td>40-44</td>\n",
       "      <td>Male</td>\n",
       "      <td>-1</td>\n",
       "      <td>Australia</td>\n",
       "      <td>Master’s degree</td>\n",
       "      <td>Other</td>\n",
       "      <td>0</td>\n",
       "      <td>&gt; 10,000 employees</td>\n",
       "      <td>20+</td>\n",
       "      <td>...</td>\n",
       "      <td>NaN</td>\n",
       "      <td>NaN</td>\n",
       "      <td>NaN</td>\n",
       "      <td>NaN</td>\n",
       "      <td>NaN</td>\n",
       "      <td>Azure SQL Database</td>\n",
       "      <td>NaN</td>\n",
       "      <td>NaN</td>\n",
       "      <td>NaN</td>\n",
       "      <td>-1</td>\n",
       "    </tr>\n",
       "  </tbody>\n",
       "</table>\n",
       "<p>5 rows × 246 columns</p>\n",
       "</div>"
      ],
      "text/plain": [
       "  Time from Start to Finish (seconds)                           Q1  \\\n",
       "0               Duration (in seconds)  What is your age (# years)?   \n",
       "1                                 510                        22-24   \n",
       "2                                 423                        40-44   \n",
       "3                                  83                        55-59   \n",
       "4                                 391                        40-44   \n",
       "\n",
       "                                       Q2  \\\n",
       "0  What is your gender? - Selected Choice   \n",
       "1                                    Male   \n",
       "2                                    Male   \n",
       "3                                  Female   \n",
       "4                                    Male   \n",
       "\n",
       "                                       Q2_OTHER_TEXT  \\\n",
       "0  What is your gender? - Prefer to self-describe...   \n",
       "1                                                 -1   \n",
       "2                                                 -1   \n",
       "3                                                 -1   \n",
       "4                                                 -1   \n",
       "\n",
       "                                          Q3  \\\n",
       "0  In which country do you currently reside?   \n",
       "1                                     France   \n",
       "2                                      India   \n",
       "3                                    Germany   \n",
       "4                                  Australia   \n",
       "\n",
       "                                                  Q4  \\\n",
       "0  What is the highest level of formal education ...   \n",
       "1                                    Master’s degree   \n",
       "2                                Professional degree   \n",
       "3                                Professional degree   \n",
       "4                                    Master’s degree   \n",
       "\n",
       "                                                  Q5  \\\n",
       "0  Select the title most similar to your current ...   \n",
       "1                                  Software Engineer   \n",
       "2                                  Software Engineer   \n",
       "3                                                NaN   \n",
       "4                                              Other   \n",
       "\n",
       "                                       Q5_OTHER_TEXT  \\\n",
       "0  Select the title most similar to your current ...   \n",
       "1                                                 -1   \n",
       "2                                                 -1   \n",
       "3                                                 -1   \n",
       "4                                                  0   \n",
       "\n",
       "                                                  Q6  \\\n",
       "0  What is the size of the company where you are ...   \n",
       "1                               1000-9,999 employees   \n",
       "2                                 > 10,000 employees   \n",
       "3                                                NaN   \n",
       "4                                 > 10,000 employees   \n",
       "\n",
       "                                                  Q7  ...  \\\n",
       "0  Approximately how many individuals are respons...  ...   \n",
       "1                                                  0  ...   \n",
       "2                                                20+  ...   \n",
       "3                                                NaN  ...   \n",
       "4                                                20+  ...   \n",
       "\n",
       "                                          Q34_Part_4  \\\n",
       "0  Which of the following relational database pro...   \n",
       "1                                                NaN   \n",
       "2                                                NaN   \n",
       "3                                                NaN   \n",
       "4                                                NaN   \n",
       "\n",
       "                                          Q34_Part_5  \\\n",
       "0  Which of the following relational database pro...   \n",
       "1                                                NaN   \n",
       "2                                                NaN   \n",
       "3                                                NaN   \n",
       "4                                                NaN   \n",
       "\n",
       "                                          Q34_Part_6  \\\n",
       "0  Which of the following relational database pro...   \n",
       "1                                                NaN   \n",
       "2                                                NaN   \n",
       "3                                                NaN   \n",
       "4                                                NaN   \n",
       "\n",
       "                                          Q34_Part_7  \\\n",
       "0  Which of the following relational database pro...   \n",
       "1                                                NaN   \n",
       "2                                                NaN   \n",
       "3                                                NaN   \n",
       "4                                                NaN   \n",
       "\n",
       "                                          Q34_Part_8  \\\n",
       "0  Which of the following relational database pro...   \n",
       "1                                                NaN   \n",
       "2                                                NaN   \n",
       "3                                                NaN   \n",
       "4                                                NaN   \n",
       "\n",
       "                                          Q34_Part_9  \\\n",
       "0  Which of the following relational database pro...   \n",
       "1                                                NaN   \n",
       "2                                                NaN   \n",
       "3                                                NaN   \n",
       "4                                 Azure SQL Database   \n",
       "\n",
       "                                         Q34_Part_10  \\\n",
       "0  Which of the following relational database pro...   \n",
       "1                                                NaN   \n",
       "2                                                NaN   \n",
       "3                                                NaN   \n",
       "4                                                NaN   \n",
       "\n",
       "                                         Q34_Part_11  \\\n",
       "0  Which of the following relational database pro...   \n",
       "1                                                NaN   \n",
       "2                                                NaN   \n",
       "3                                                NaN   \n",
       "4                                                NaN   \n",
       "\n",
       "                                         Q34_Part_12  \\\n",
       "0  Which of the following relational database pro...   \n",
       "1                                                NaN   \n",
       "2                                                NaN   \n",
       "3                                                NaN   \n",
       "4                                                NaN   \n",
       "\n",
       "                                      Q34_OTHER_TEXT  \n",
       "0  Which of the following relational database pro...  \n",
       "1                                                 -1  \n",
       "2                                                 -1  \n",
       "3                                                 -1  \n",
       "4                                                 -1  \n",
       "\n",
       "[5 rows x 246 columns]"
      ]
     },
     "execution_count": 23,
     "metadata": {},
     "output_type": "execute_result"
    }
   ],
   "source": [
    "df=pd.read_csv(\"multiple_choice_responses.csv\",low_memory=False) #Reading Survey Answers\n",
    "df.head()"
   ]
  },
  {
   "cell_type": "code",
   "execution_count": 35,
   "metadata": {},
   "outputs": [
    {
     "name": "stdout",
     "output_type": "stream",
     "text": [
      "Number of Survey takers: 19717\n"
     ]
    }
   ],
   "source": [
    "print(\"Number of Survey takers:\",df.shape[0]-1)"
   ]
  },
  {
   "cell_type": "code",
   "execution_count": 24,
   "metadata": {},
   "outputs": [
    {
     "data": {
      "text/plain": [
       "Index(['Time from Start to Finish (seconds)', 'Q1', 'Q2', 'Q2_OTHER_TEXT',\n",
       "       'Q3', 'Q4', 'Q5', 'Q5_OTHER_TEXT', 'Q6', 'Q7',\n",
       "       ...\n",
       "       'Q34_Part_4', 'Q34_Part_5', 'Q34_Part_6', 'Q34_Part_7', 'Q34_Part_8',\n",
       "       'Q34_Part_9', 'Q34_Part_10', 'Q34_Part_11', 'Q34_Part_12',\n",
       "       'Q34_OTHER_TEXT'],\n",
       "      dtype='object', length=246)"
      ]
     },
     "execution_count": 24,
     "metadata": {},
     "output_type": "execute_result"
    }
   ],
   "source": [
    "df.columns"
   ]
  },
  {
   "cell_type": "code",
   "execution_count": 4,
   "metadata": {},
   "outputs": [
    {
     "data": {
      "text/plain": [
       "Time from Start to Finish (seconds)        0\n",
       "Q1                                         0\n",
       "Q2                                         0\n",
       "Q2_OTHER_TEXT                              0\n",
       "Q3                                         0\n",
       "                                       ...  \n",
       "Q34_Part_9                             19238\n",
       "Q34_Part_10                            19191\n",
       "Q34_Part_11                            18472\n",
       "Q34_Part_12                            19430\n",
       "Q34_OTHER_TEXT                             0\n",
       "Length: 246, dtype: int64"
      ]
     },
     "execution_count": 4,
     "metadata": {},
     "output_type": "execute_result"
    }
   ],
   "source": [
    "df.isnull().sum()"
   ]
  },
  {
   "cell_type": "code",
   "execution_count": null,
   "metadata": {},
   "outputs": [],
   "source": []
  },
  {
   "cell_type": "code",
   "execution_count": 5,
   "metadata": {},
   "outputs": [
    {
     "data": {
      "text/html": [
       "<div>\n",
       "<style scoped>\n",
       "    .dataframe tbody tr th:only-of-type {\n",
       "        vertical-align: middle;\n",
       "    }\n",
       "\n",
       "    .dataframe tbody tr th {\n",
       "        vertical-align: top;\n",
       "    }\n",
       "\n",
       "    .dataframe thead th {\n",
       "        text-align: right;\n",
       "    }\n",
       "</style>\n",
       "<table border=\"1\" class=\"dataframe\">\n",
       "  <thead>\n",
       "    <tr style=\"text-align: right;\">\n",
       "      <th></th>\n",
       "      <th>Time from Start to Finish (seconds)</th>\n",
       "      <th>Q1</th>\n",
       "      <th>Q2</th>\n",
       "      <th>Q3</th>\n",
       "      <th>Q4</th>\n",
       "      <th>Q5</th>\n",
       "      <th>Q6</th>\n",
       "      <th>Q7</th>\n",
       "      <th>Q8</th>\n",
       "      <th>Q9</th>\n",
       "      <th>...</th>\n",
       "      <th>Q25</th>\n",
       "      <th>Q26</th>\n",
       "      <th>Q27</th>\n",
       "      <th>Q28</th>\n",
       "      <th>Q29</th>\n",
       "      <th>Q30</th>\n",
       "      <th>Q31</th>\n",
       "      <th>Q32</th>\n",
       "      <th>Q33</th>\n",
       "      <th>Q34</th>\n",
       "    </tr>\n",
       "  </thead>\n",
       "  <tbody>\n",
       "    <tr>\n",
       "      <td>0</td>\n",
       "      <td>Duration (in seconds)</td>\n",
       "      <td>What is your age (# years)?</td>\n",
       "      <td>What is your gender? - Selected Choice</td>\n",
       "      <td>In which country do you currently reside?</td>\n",
       "      <td>What is the highest level of formal education ...</td>\n",
       "      <td>Select the title most similar to your current ...</td>\n",
       "      <td>What is the size of the company where you are ...</td>\n",
       "      <td>Approximately how many individuals are respons...</td>\n",
       "      <td>Does your current employer incorporate machine...</td>\n",
       "      <td>Select any activities that make up an importan...</td>\n",
       "      <td>...</td>\n",
       "      <td>Which categories of ML tools do you use on a r...</td>\n",
       "      <td>Which categories of computer vision methods do...</td>\n",
       "      <td>Which of the following natural language proces...</td>\n",
       "      <td>Which of the following machine learning framew...</td>\n",
       "      <td>Which of the following cloud computing platfor...</td>\n",
       "      <td>Which specific cloud computing products do you...</td>\n",
       "      <td>Which specific big data / analytics products d...</td>\n",
       "      <td>Which of the following machine learning produc...</td>\n",
       "      <td>Which automated machine learning tools (or par...</td>\n",
       "      <td>Which of the following relational database pro...</td>\n",
       "    </tr>\n",
       "  </tbody>\n",
       "</table>\n",
       "<p>1 rows × 35 columns</p>\n",
       "</div>"
      ],
      "text/plain": [
       "  Time from Start to Finish (seconds)                           Q1  \\\n",
       "0               Duration (in seconds)  What is your age (# years)?   \n",
       "\n",
       "                                       Q2  \\\n",
       "0  What is your gender? - Selected Choice   \n",
       "\n",
       "                                          Q3  \\\n",
       "0  In which country do you currently reside?   \n",
       "\n",
       "                                                  Q4  \\\n",
       "0  What is the highest level of formal education ...   \n",
       "\n",
       "                                                  Q5  \\\n",
       "0  Select the title most similar to your current ...   \n",
       "\n",
       "                                                  Q6  \\\n",
       "0  What is the size of the company where you are ...   \n",
       "\n",
       "                                                  Q7  \\\n",
       "0  Approximately how many individuals are respons...   \n",
       "\n",
       "                                                  Q8  \\\n",
       "0  Does your current employer incorporate machine...   \n",
       "\n",
       "                                                  Q9  ...  \\\n",
       "0  Select any activities that make up an importan...  ...   \n",
       "\n",
       "                                                 Q25  \\\n",
       "0  Which categories of ML tools do you use on a r...   \n",
       "\n",
       "                                                 Q26  \\\n",
       "0  Which categories of computer vision methods do...   \n",
       "\n",
       "                                                 Q27  \\\n",
       "0  Which of the following natural language proces...   \n",
       "\n",
       "                                                 Q28  \\\n",
       "0  Which of the following machine learning framew...   \n",
       "\n",
       "                                                 Q29  \\\n",
       "0  Which of the following cloud computing platfor...   \n",
       "\n",
       "                                                 Q30  \\\n",
       "0  Which specific cloud computing products do you...   \n",
       "\n",
       "                                                 Q31  \\\n",
       "0  Which specific big data / analytics products d...   \n",
       "\n",
       "                                                 Q32  \\\n",
       "0  Which of the following machine learning produc...   \n",
       "\n",
       "                                                 Q33  \\\n",
       "0  Which automated machine learning tools (or par...   \n",
       "\n",
       "                                                 Q34  \n",
       "0  Which of the following relational database pro...  \n",
       "\n",
       "[1 rows x 35 columns]"
      ]
     },
     "execution_count": 5,
     "metadata": {},
     "output_type": "execute_result"
    }
   ],
   "source": [
    "df_ques=pd.read_csv(\"questions_only.csv\")# Reading the Question Schema\n",
    "df_ques.head()"
   ]
  },
  {
   "cell_type": "code",
   "execution_count": 6,
   "metadata": {},
   "outputs": [
    {
     "name": "stdout",
     "output_type": "stream",
     "text": [
      "0 Duration (in seconds)\n",
      "1 What is your age (# years)?\n",
      "2 What is your gender? - Selected Choice\n",
      "3 In which country do you currently reside?\n",
      "4 What is the highest level of formal education that you have attained or plan to attain within the next 2 years?\n",
      "5 Select the title most similar to your current role (or most recent title if retired): - Selected Choice\n",
      "6 What is the size of the company where you are employed?\n",
      "7 Approximately how many individuals are responsible for data science workloads at your place of business?\n",
      "8 Does your current employer incorporate machine learning methods into their business?\n",
      "9 Select any activities that make up an important part of your role at work: (Select all that apply) - Selected Choice\n",
      "10 What is your current yearly compensation (approximate $USD)?\n",
      "11 Approximately how much money have you spent on machine learning and/or cloud computing products at your work in the past 5 years?\n",
      "12 Who/what are your favorite media sources that report on data science topics? (Select all that apply) - Selected Choice\n",
      "13 On which platforms have you begun or completed data science courses? (Select all that apply) - Selected Choice\n",
      "14 What is the primary tool that you use at work or school to analyze data? (Include text response) - Selected Choice\n",
      "15 How long have you been writing code to analyze data (at work or at school)?\n",
      "16 Which of the following integrated development environments (IDE's) do you use on a regular basis?  (Select all that apply) - Selected Choice\n",
      "17 Which of the following hosted notebook products do you use on a regular basis?  (Select all that apply) - Selected Choice\n",
      "18 What programming languages do you use on a regular basis? (Select all that apply) - Selected Choice\n",
      "19 What programming language would you recommend an aspiring data scientist to learn first? - Selected Choice\n",
      "20 What data visualization libraries or tools do you use on a regular basis?  (Select all that apply) - Selected Choice\n",
      "21 Which types of specialized hardware do you use on a regular basis?  (Select all that apply) - Selected Choice\n",
      "22 Have you ever used a TPU (tensor processing unit)?\n",
      "23 For how many years have you used machine learning methods?\n",
      "24 Which of the following ML algorithms do you use on a regular basis? (Select all that apply): - Selected Choice\n",
      "25 Which categories of ML tools do you use on a regular basis?  (Select all that apply) - Selected Choice\n",
      "26 Which categories of computer vision methods do you use on a regular basis?  (Select all that apply) - Selected Choice\n",
      "27 Which of the following natural language processing (NLP) methods do you use on a regular basis?  (Select all that apply) - Selected Choice\n",
      "28 Which of the following machine learning frameworks do you use on a regular basis? (Select all that apply) - Selected Choice\n",
      "29 Which of the following cloud computing platforms do you use on a regular basis? (Select all that apply) - Selected Choice\n",
      "30 Which specific cloud computing products do you use on a regular basis? (Select all that apply) - Selected Choice\n",
      "31 Which specific big data / analytics products do you use on a regular basis? (Select all that apply) - Selected Choice\n",
      "32 Which of the following machine learning products do you use on a regular basis? (Select all that apply) - Selected Choice\n",
      "33 Which automated machine learning tools (or partial AutoML tools) do you use on a regular basis?  (Select all that apply) - Selected Choice\n",
      "34 Which of the following relational database products do you use on a regular basis? (Select all that apply) - Selected Choice\n"
     ]
    }
   ],
   "source": [
    "i=0\n",
    "for q in df_ques.iloc[0]:\n",
    "    print(i,q)\n",
    "    i=i+1"
   ]
  },
  {
   "cell_type": "markdown",
   "metadata": {},
   "source": [
    "# Top 10 Countries"
   ]
  },
  {
   "cell_type": "code",
   "execution_count": 7,
   "metadata": {},
   "outputs": [
    {
     "data": {
      "text/plain": [
       "<matplotlib.axes._subplots.AxesSubplot at 0x1a16ef5110>"
      ]
     },
     "execution_count": 7,
     "metadata": {},
     "output_type": "execute_result"
    },
    {
     "data": {
      "image/png": "[encoded data removed]",
      "text/plain": [
       "<Figure size 432x288 with 1 Axes>"
      ]
     },
     "metadata": {},
     "output_type": "display_data"
    }
   ],
   "source": [
    "df['Q3'].value_counts().head(10).plot(kind='pie',title=\"Top 10 Countries\")"
   ]
  },
  {
   "cell_type": "markdown",
   "metadata": {},
   "source": [
    "# India being the largest country. Let us answer some questions regarding India"
   ]
  },
  {
   "cell_type": "code",
   "execution_count": 8,
   "metadata": {},
   "outputs": [],
   "source": [
    "df=df[df['Q3']==\"India\"].reset_index()#Selecting only Indian responses\n",
    "df=df.drop('index',axis=1)"
   ]
  },
  {
   "cell_type": "code",
   "execution_count": 9,
   "metadata": {},
   "outputs": [
    {
     "data": {
      "text/html": [
       "<div>\n",
       "<style scoped>\n",
       "    .dataframe tbody tr th:only-of-type {\n",
       "        vertical-align: middle;\n",
       "    }\n",
       "\n",
       "    .dataframe tbody tr th {\n",
       "        vertical-align: top;\n",
       "    }\n",
       "\n",
       "    .dataframe thead th {\n",
       "        text-align: right;\n",
       "    }\n",
       "</style>\n",
       "<table border=\"1\" class=\"dataframe\">\n",
       "  <thead>\n",
       "    <tr style=\"text-align: right;\">\n",
       "      <th></th>\n",
       "      <th>Time from Start to Finish (seconds)</th>\n",
       "      <th>Q1</th>\n",
       "      <th>Q2</th>\n",
       "      <th>Q2_OTHER_TEXT</th>\n",
       "      <th>Q3</th>\n",
       "      <th>Q4</th>\n",
       "      <th>Q5</th>\n",
       "      <th>Q5_OTHER_TEXT</th>\n",
       "      <th>Q6</th>\n",
       "      <th>Q7</th>\n",
       "      <th>...</th>\n",
       "      <th>Q34_Part_4</th>\n",
       "      <th>Q34_Part_5</th>\n",
       "      <th>Q34_Part_6</th>\n",
       "      <th>Q34_Part_7</th>\n",
       "      <th>Q34_Part_8</th>\n",
       "      <th>Q34_Part_9</th>\n",
       "      <th>Q34_Part_10</th>\n",
       "      <th>Q34_Part_11</th>\n",
       "      <th>Q34_Part_12</th>\n",
       "      <th>Q34_OTHER_TEXT</th>\n",
       "    </tr>\n",
       "  </thead>\n",
       "  <tbody>\n",
       "    <tr>\n",
       "      <td>0</td>\n",
       "      <td>423</td>\n",
       "      <td>40-44</td>\n",
       "      <td>Male</td>\n",
       "      <td>-1</td>\n",
       "      <td>India</td>\n",
       "      <td>Professional degree</td>\n",
       "      <td>Software Engineer</td>\n",
       "      <td>-1</td>\n",
       "      <td>&gt; 10,000 employees</td>\n",
       "      <td>20+</td>\n",
       "      <td>...</td>\n",
       "      <td>NaN</td>\n",
       "      <td>NaN</td>\n",
       "      <td>NaN</td>\n",
       "      <td>NaN</td>\n",
       "      <td>NaN</td>\n",
       "      <td>NaN</td>\n",
       "      <td>NaN</td>\n",
       "      <td>NaN</td>\n",
       "      <td>NaN</td>\n",
       "      <td>-1</td>\n",
       "    </tr>\n",
       "    <tr>\n",
       "      <td>1</td>\n",
       "      <td>392</td>\n",
       "      <td>22-24</td>\n",
       "      <td>Male</td>\n",
       "      <td>-1</td>\n",
       "      <td>India</td>\n",
       "      <td>Bachelor’s degree</td>\n",
       "      <td>Other</td>\n",
       "      <td>1</td>\n",
       "      <td>0-49 employees</td>\n",
       "      <td>0</td>\n",
       "      <td>...</td>\n",
       "      <td>NaN</td>\n",
       "      <td>NaN</td>\n",
       "      <td>NaN</td>\n",
       "      <td>NaN</td>\n",
       "      <td>NaN</td>\n",
       "      <td>NaN</td>\n",
       "      <td>NaN</td>\n",
       "      <td>NaN</td>\n",
       "      <td>NaN</td>\n",
       "      <td>-1</td>\n",
       "    </tr>\n",
       "    <tr>\n",
       "      <td>2</td>\n",
       "      <td>529</td>\n",
       "      <td>22-24</td>\n",
       "      <td>Male</td>\n",
       "      <td>-1</td>\n",
       "      <td>India</td>\n",
       "      <td>Master’s degree</td>\n",
       "      <td>Data Scientist</td>\n",
       "      <td>-1</td>\n",
       "      <td>50-249 employees</td>\n",
       "      <td>20+</td>\n",
       "      <td>...</td>\n",
       "      <td>NaN</td>\n",
       "      <td>NaN</td>\n",
       "      <td>NaN</td>\n",
       "      <td>NaN</td>\n",
       "      <td>NaN</td>\n",
       "      <td>NaN</td>\n",
       "      <td>NaN</td>\n",
       "      <td>NaN</td>\n",
       "      <td>NaN</td>\n",
       "      <td>-1</td>\n",
       "    </tr>\n",
       "    <tr>\n",
       "      <td>3</td>\n",
       "      <td>290</td>\n",
       "      <td>18-21</td>\n",
       "      <td>Male</td>\n",
       "      <td>-1</td>\n",
       "      <td>India</td>\n",
       "      <td>Some college/university study without earning ...</td>\n",
       "      <td>Student</td>\n",
       "      <td>-1</td>\n",
       "      <td>NaN</td>\n",
       "      <td>NaN</td>\n",
       "      <td>...</td>\n",
       "      <td>NaN</td>\n",
       "      <td>NaN</td>\n",
       "      <td>NaN</td>\n",
       "      <td>NaN</td>\n",
       "      <td>NaN</td>\n",
       "      <td>NaN</td>\n",
       "      <td>NaN</td>\n",
       "      <td>NaN</td>\n",
       "      <td>NaN</td>\n",
       "      <td>-1</td>\n",
       "    </tr>\n",
       "    <tr>\n",
       "      <td>4</td>\n",
       "      <td>524</td>\n",
       "      <td>25-29</td>\n",
       "      <td>Male</td>\n",
       "      <td>-1</td>\n",
       "      <td>India</td>\n",
       "      <td>Bachelor’s degree</td>\n",
       "      <td>Other</td>\n",
       "      <td>3</td>\n",
       "      <td>1000-9,999 employees</td>\n",
       "      <td>NaN</td>\n",
       "      <td>...</td>\n",
       "      <td>NaN</td>\n",
       "      <td>NaN</td>\n",
       "      <td>NaN</td>\n",
       "      <td>NaN</td>\n",
       "      <td>NaN</td>\n",
       "      <td>NaN</td>\n",
       "      <td>NaN</td>\n",
       "      <td>NaN</td>\n",
       "      <td>NaN</td>\n",
       "      <td>-1</td>\n",
       "    </tr>\n",
       "  </tbody>\n",
       "</table>\n",
       "<p>5 rows × 246 columns</p>\n",
       "</div>"
      ],
      "text/plain": [
       "  Time from Start to Finish (seconds)     Q1    Q2 Q2_OTHER_TEXT     Q3  \\\n",
       "0                                 423  40-44  Male            -1  India   \n",
       "1                                 392  22-24  Male            -1  India   \n",
       "2                                 529  22-24  Male            -1  India   \n",
       "3                                 290  18-21  Male            -1  India   \n",
       "4                                 524  25-29  Male            -1  India   \n",
       "\n",
       "                                                  Q4                 Q5  \\\n",
       "0                                Professional degree  Software Engineer   \n",
       "1                                  Bachelor’s degree              Other   \n",
       "2                                    Master’s degree     Data Scientist   \n",
       "3  Some college/university study without earning ...            Student   \n",
       "4                                  Bachelor’s degree              Other   \n",
       "\n",
       "  Q5_OTHER_TEXT                    Q6   Q7  ... Q34_Part_4 Q34_Part_5  \\\n",
       "0            -1    > 10,000 employees  20+  ...        NaN        NaN   \n",
       "1             1        0-49 employees    0  ...        NaN        NaN   \n",
       "2            -1      50-249 employees  20+  ...        NaN        NaN   \n",
       "3            -1                   NaN  NaN  ...        NaN        NaN   \n",
       "4             3  1000-9,999 employees  NaN  ...        NaN        NaN   \n",
       "\n",
       "  Q34_Part_6 Q34_Part_7 Q34_Part_8 Q34_Part_9 Q34_Part_10 Q34_Part_11  \\\n",
       "0        NaN        NaN        NaN        NaN         NaN         NaN   \n",
       "1        NaN        NaN        NaN        NaN         NaN         NaN   \n",
       "2        NaN        NaN        NaN        NaN         NaN         NaN   \n",
       "3        NaN        NaN        NaN        NaN         NaN         NaN   \n",
       "4        NaN        NaN        NaN        NaN         NaN         NaN   \n",
       "\n",
       "  Q34_Part_12 Q34_OTHER_TEXT  \n",
       "0         NaN             -1  \n",
       "1         NaN             -1  \n",
       "2         NaN             -1  \n",
       "3         NaN             -1  \n",
       "4         NaN             -1  \n",
       "\n",
       "[5 rows x 246 columns]"
      ]
     },
     "execution_count": 9,
     "metadata": {},
     "output_type": "execute_result"
    }
   ],
   "source": [
    "df.head()"
   ]
  },
  {
   "cell_type": "markdown",
   "metadata": {},
   "source": [
    "# Part I: What is the gender distribution in the field?¶\n"
   ]
  },
  {
   "cell_type": "code",
   "execution_count": 11,
   "metadata": {},
   "outputs": [
    {
     "data": {
      "image/png": "[encoded data removed]",
      "text/plain": [
       "<Figure size 432x288 with 1 Axes>"
      ]
     },
     "metadata": {},
     "output_type": "display_data"
    }
   ],
   "source": [
    "labels = ['Male', 'Female', 'Other']\n",
    "sizes = [df['Q2'].value_counts()[0],\n",
    "         df['Q2'].value_counts()[1],\n",
    "         df['Q2'].value_counts()[2]+df['Q2'].value_counts()[3]\n",
    "        ]\n",
    "fig1, ax1 = plt.subplots()\n",
    "ax1.pie(sizes, labels=labels, autopct='%1.1f%%')\n",
    "ax1.axis('equal')\n",
    "plt.title('Gender Distribution')\n",
    "plt.show()"
   ]
  },
  {
   "cell_type": "markdown",
   "metadata": {},
   "source": [
    "# Part II: Do people with postgraduate degree earn more in India?¶\n"
   ]
  },
  {
   "cell_type": "code",
   "execution_count": 16,
   "metadata": {},
   "outputs": [],
   "source": [
    "#Considering only working professionals having a college degree\n",
    "undergrad = ['Bachelor’s degree'] \n",
    "postgrad=['Master’s degree','Doctoral degree']\n",
    "unemployed=['Student','Not employed']"
   ]
  },
  {
   "cell_type": "code",
   "execution_count": 17,
   "metadata": {},
   "outputs": [],
   "source": [
    "employed_df = df.loc[~df['Q5'].isin(unemployed)] "
   ]
  },
  {
   "cell_type": "code",
   "execution_count": 18,
   "metadata": {},
   "outputs": [
    {
     "data": {
      "image/png": "[encoded data removed]",
      "text/plain": [
       "<Figure size 432x288 with 1 Axes>"
      ]
     },
     "metadata": {
      "needs_background": "light"
     },
     "output_type": "display_data"
    }
   ],
   "source": [
    "employed_df.loc[employed_df['Q4'].isin(undergrad)]['Q10'].dropna().value_counts().plot.bar(colormap='Paired',title=\"Undegraduate Salary Distribution\");"
   ]
  },
  {
   "cell_type": "code",
   "execution_count": 19,
   "metadata": {},
   "outputs": [
    {
     "data": {
      "image/png": "[encoded data removed]",
      "text/plain": [
       "<Figure size 432x288 with 1 Axes>"
      ]
     },
     "metadata": {
      "needs_background": "light"
     },
     "output_type": "display_data"
    }
   ],
   "source": [
    "employed_df.loc[employed_df['Q4'].isin(postgrad)]['Q10'].dropna().value_counts().plot.bar(colormap='winter',title=\"Postgraduate Salary Distribution\");"
   ]
  },
  {
   "cell_type": "markdown",
   "metadata": {},
   "source": [
    "# Part III: What job roles most Indian Kagglers have?¶\n"
   ]
  },
  {
   "cell_type": "code",
   "execution_count": 20,
   "metadata": {},
   "outputs": [
    {
     "data": {
      "image/png": "[encoded data removed]",
      "text/plain": [
       "<Figure size 432x288 with 1 Axes>"
      ]
     },
     "metadata": {
      "needs_background": "light"
     },
     "output_type": "display_data"
    }
   ],
   "source": [
    "employed_df[\"Q5\"].dropna().value_counts().plot.barh(colormap='spring',title=\"Job Roles\");"
   ]
  },
  {
   "cell_type": "markdown",
   "metadata": {},
   "source": [
    "# Part IV: What is the age distribution of Indian Kagglers?"
   ]
  },
  {
   "cell_type": "code",
   "execution_count": 21,
   "metadata": {},
   "outputs": [
    {
     "data": {
      "image/png": "[encoded data removed]",
      "text/plain": [
       "<Figure size 432x288 with 1 Axes>"
      ]
     },
     "metadata": {
      "needs_background": "light"
     },
     "output_type": "display_data"
    }
   ],
   "source": [
    "df['Q1'].value_counts().plot(kind='area',colormap='summer',title='Age Distribution');"
   ]
  },
  {
   "cell_type": "code",
   "execution_count": null,
   "metadata": {},
   "outputs": [],
   "source": []
  },
  {
   "cell_type": "code",
   "execution_count": null,
   "metadata": {},
   "outputs": [],
   "source": []
  }
 ],
 "metadata": {
  "kernelspec": {
   "display_name": "Python 3",
   "language": "python",
   "name": "python3"
  },
  "language_info": {
   "codemirror_mode": {
    "name": "ipython",
    "version": 3
   },
   "file_extension": ".py",
   "mimetype": "text/x-python",
   "name": "python",
   "nbconvert_exporter": "python",
   "pygments_lexer": "ipython3",
   "version": "3.7.4"
  }
 },
 "nbformat": 4,
 "nbformat_minor": 2
}
